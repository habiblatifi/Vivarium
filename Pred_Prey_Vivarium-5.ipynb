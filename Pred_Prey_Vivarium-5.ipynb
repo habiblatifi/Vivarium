{
 "cells": [
  {
   "cell_type": "code",
   "execution_count": 4,
   "id": "446bf323-0b0d-4203-8667-a01d718d61bf",
   "metadata": {},
   "outputs": [],
   "source": [
    "# !pip install vivarium-core"
   ]
  },
  {
   "cell_type": "code",
   "execution_count": 1,
   "id": "990285de-41b6-40ad-9934-e4bec5bc0b01",
   "metadata": {},
   "outputs": [],
   "source": [
    "# !pip install matplotlib"
   ]
  },
  {
   "cell_type": "code",
   "execution_count": null,
   "id": "59ea3268-4844-4ff3-912d-c80907493537",
   "metadata": {},
   "outputs": [],
   "source": []
  },
  {
   "cell_type": "code",
   "execution_count": 2,
   "id": "22967c6b-aaa8-4a9a-ab9d-e9cdd673bf23",
   "metadata": {},
   "outputs": [],
   "source": [
    "# Imports and Notebook Utilities\n",
    "import os\n",
    "import copy\n",
    "import pylab as plt\n",
    "import numpy as np\n",
    "from scipy import constants\n",
    "import matplotlib.pyplot as plt\n",
    "import matplotlib\n",
    "\n",
    "# Process, Deriver, and Composer base classes\n",
    "from vivarium.core.process import Process, Deriver\n",
    "from vivarium.core.composer import Composer\n",
    "from vivarium.core.registry import process_registry\n",
    "\n",
    "# other vivarium imports\n",
    "from vivarium.core.engine import Engine, pp\n",
    "from vivarium.library.units import units\n",
    "\n",
    "# plotting functions\n",
    "from vivarium.plots.simulation_output import (\n",
    "    plot_simulation_output, plot_variables)\n",
    "from vivarium.plots.simulation_output import _save_fig_to_dir as save_fig_to_dir\n",
    "from vivarium.plots.agents_multigen import plot_agents_multigen\n",
    "from vivarium.plots.topology import plot_topology\n",
    "\n",
    "# supress warnings in notebook\n",
    "import warnings\n",
    "warnings.filterwarnings('ignore')\n"
   ]
  },
  {
   "cell_type": "code",
   "execution_count": 3,
   "id": "15c775f2-9ffc-4b62-9990-2ce18243dce8",
   "metadata": {},
   "outputs": [],
   "source": [
    "# !pip show vivarium-core"
   ]
  },
  {
   "cell_type": "code",
   "execution_count": 4,
   "id": "12d635d3-e584-4a0e-8e76-cf0e726525fd",
   "metadata": {},
   "outputs": [],
   "source": [
    "# !which python"
   ]
  },
  {
   "cell_type": "code",
   "execution_count": 5,
   "id": "527e3c1f-bc2c-4138-902c-c25cfd788861",
   "metadata": {},
   "outputs": [
    {
     "name": "stdout",
     "output_type": "stream",
     "text": [
      "Predator-Prey process successfully created!\n"
     ]
    }
   ],
   "source": [
    "from vivarium.core.process import Process\n",
    "from vivarium.core.engine import Engine\n",
    "\n",
    "class PredatorPrey(Process):\n",
    "    defaults = {\n",
    "        'alpha': 0.1,  # Prey growth rate\n",
    "        'beta': 0.02,  # Predation rate\n",
    "        'gamma': 0.1,  # Predator death rate\n",
    "        'delta': 0.01  # Predator reproduction rate due to predation\n",
    "    }\n",
    "\n",
    "    def __init__(self, parameters=None):\n",
    "        super().__init__(parameters)\n",
    "\n",
    "    def ports_schema(self):\n",
    "        return {\n",
    "            'prey': {\n",
    "                'x': {\n",
    "                    '_default': 40.0,\n",
    "                    '_emit': True,\n",
    "                    '_updater': 'accumulate'\n",
    "                }\n",
    "            },\n",
    "            'predator': {\n",
    "                'y': {\n",
    "                    '_default': 9.0,\n",
    "                    '_emit': True,\n",
    "                    '_updater': 'accumulate'\n",
    "                }\n",
    "            }\n",
    "        }\n",
    "\n",
    "    def next_update(self, timestep, states):\n",
    "        x = states['prey']['x']\n",
    "        y = states['predator']['y']\n",
    "\n",
    "        dx = (self.parameters['alpha'] * x - self.parameters['beta'] * x * y) * timestep\n",
    "        dy = (self.parameters['delta'] * x * y - self.parameters['gamma'] * y) * timestep\n",
    "\n",
    "        return {\n",
    "            'prey': {'x': dx},\n",
    "            'predator': {'y': dy}\n",
    "        }\n",
    "\n",
    "# Instantiate and test\n",
    "predator_prey_process = PredatorPrey()\n",
    "\n",
    "print(\"Predator-Prey process successfully created!\")\n"
   ]
  },
  {
   "cell_type": "code",
   "execution_count": 6,
   "id": "3a9865cd-e920-4be8-8815-d28690301643",
   "metadata": {},
   "outputs": [
    {
     "name": "stdout",
     "output_type": "stream",
     "text": [
      "\n",
      "Simulation ID: 0557b426-75cb-11ef-8428-2514467c434f\n",
      "Created: 09/18/2024 at 10:33:50\n",
      "Completed in 0.003928 seconds\n"
     ]
    },
    {
     "data": {
      "image/png": "[encoded data removed]",
      "text/plain": [
       "<Figure size 432x288 with 1 Axes>"
      ]
     },
     "metadata": {
      "needs_background": "light"
     },
     "output_type": "display_data"
    }
   ],
   "source": [
    "from vivarium.core.process import Process\n",
    "from vivarium.core.engine import Engine\n",
    "import numpy as np\n",
    "import matplotlib.pyplot as plt\n",
    "\n",
    "class PredatorPrey(Process):\n",
    "    defaults = {\n",
    "        'alpha': 0.1,  # Prey growth rate\n",
    "        'beta': 0.02,  # Predation rate\n",
    "        'gamma': 0.1,  # Predator death rate\n",
    "        'delta': 0.01  # Predator reproduction rate due to predation\n",
    "    }\n",
    "\n",
    "    def __init__(self, parameters=None):\n",
    "        super().__init__(parameters)\n",
    "\n",
    "    def ports_schema(self):\n",
    "        return {\n",
    "            'prey': {\n",
    "                'x': {\n",
    "                    '_default': 40.0,\n",
    "                    '_emit': True,\n",
    "                    '_updater': 'accumulate'\n",
    "                }\n",
    "            },\n",
    "            'predator': {\n",
    "                'y': {\n",
    "                    '_default': 9.0,\n",
    "                    '_emit': True,\n",
    "                    '_updater': 'accumulate'\n",
    "                }\n",
    "            }\n",
    "        }\n",
    "\n",
    "    def next_update(self, timestep, states):\n",
    "        x = states['prey']['x']  # Prey population\n",
    "        y = states['predator']['y']  # Predator population\n",
    "\n",
    "        # Calculate changes using Lotka-Volterra equations\n",
    "        dx = (self.parameters['alpha'] * x - self.parameters['beta'] * x * y) * timestep\n",
    "        dy = (self.parameters['delta'] * x * y - self.parameters['gamma'] * y) * timestep\n",
    "\n",
    "        # Return updates to the population\n",
    "        return {\n",
    "            'prey': {'x': dx},\n",
    "            'predator': {'y': dy}\n",
    "        }\n",
    "\n",
    "# Create predator-prey process\n",
    "predator_prey_process = PredatorPrey()\n",
    "\n",
    "# Define the initial state\n",
    "initial_state = {\n",
    "    'prey': {'x': 40.0},\n",
    "    'predator': {'y': 9.0}\n",
    "}\n",
    "\n",
    "# Create simulation engine\n",
    "experiment = Engine(\n",
    "    composite=predator_prey_process.generate(),\n",
    "    initial_state=initial_state\n",
    ")\n",
    "\n",
    "# Run simulation for 100 time steps\n",
    "experiment.update(100)\n",
    "\n",
    "# Retrieve simulation results\n",
    "timeseries = experiment.emitter.get_timeseries()\n",
    "\n",
    "# Extract data for plotting\n",
    "times = timeseries['time']\n",
    "prey_population = timeseries['prey']['x']\n",
    "predator_population = timeseries['predator']['y']\n",
    "\n",
    "# Plot prey and predator populations over time\n",
    "plt.plot(times, prey_population, label='Prey Population')\n",
    "plt.plot(times, predator_population, label='Predator Population')\n",
    "plt.xlabel('Time')\n",
    "plt.ylabel('Population')\n",
    "plt.title('Predator-Prey Dynamics')\n",
    "plt.legend()\n",
    "\n",
    "\n",
    "# Save plot\n",
    "plt.savefig('predator_prey_plot_mix.png', format='png', dpi=600)\n",
    "# print(\"Plot saved as predator_prey_plot_mix.png\")\n",
    "\n",
    "\n",
    "plt.show()\n",
    "\n"
   ]
  },
  {
   "cell_type": "code",
   "execution_count": 7,
   "id": "fff42092-808f-4351-8151-fb7ed4aeea1a",
   "metadata": {},
   "outputs": [
    {
     "name": "stdout",
     "output_type": "stream",
     "text": [
      "Plot saved as predator_prey_Topology.png\n"
     ]
    },
    {
     "data": {
      "image/png": "[encoded data removed]",
      "text/plain": [
       "<Figure size 288x504 with 1 Axes>"
      ]
     },
     "metadata": {},
     "output_type": "display_data"
    }
   ],
   "source": [
    "import matplotlib\n",
    "from vivarium.plots.topology import plot_topology\n",
    "import matplotlib.pyplot as plt\n",
    "\n",
    "# Define color scheme for prey and predator\n",
    "store_cmap = matplotlib.cm.get_cmap('Dark2')\n",
    "prey_color = matplotlib.colors.to_rgba(store_cmap(0))\n",
    "predator_color = matplotlib.colors.to_rgba(store_cmap(1))\n",
    "\n",
    "# Define composite with processes, topology, and steps\n",
    "composite = {\n",
    "    'processes': {\n",
    "        'predator_prey': predator_prey_process\n",
    "    },\n",
    "    'topology': {\n",
    "        'predator_prey': {\n",
    "            'prey': ('prey',),\n",
    "            'predator': ('predator',)\n",
    "        }\n",
    "    },\n",
    "    'steps': {}  # Empty steps, we need it for plot_topology to work\n",
    "}\n",
    "\n",
    "# Generate basic topology plot \n",
    "plot_topology(composite)\n",
    "\n",
    "\n",
    "# Save plot \n",
    "plt.savefig('predator_prey_Topology.png', format='png', dpi=600)\n",
    "print(\"Plot saved as predator_prey_Topology.png\")\n",
    "\n",
    "# Display the plot\n",
    "plt.title('Predator-Prey Topology')\n",
    "plt.show()\n",
    "\n"
   ]
  },
  {
   "cell_type": "code",
   "execution_count": 8,
   "id": "85876497-f2f0-4e8d-a930-c914a90e2202",
   "metadata": {},
   "outputs": [
    {
     "name": "stdout",
     "output_type": "stream",
     "text": [
      "\n",
      "Simulation ID: PredatorPrey\n",
      "Created: 09/18/2024 at 10:33:54\n",
      "Completed in 0.003927 seconds\n",
      "Writing out/predator_prey_output.pdf\n",
      "Plot saved as predator_prey_plot.png\n"
     ]
    },
    {
     "data": {
      "image/png": "[encoded data removed]",
      "text/plain": [
       "<Figure size 720x288 with 2 Axes>"
      ]
     },
     "metadata": {
      "needs_background": "light"
     },
     "output_type": "display_data"
    }
   ],
   "source": [
    "import matplotlib\n",
    "import matplotlib.pyplot as plt\n",
    "from vivarium.core.engine import Engine\n",
    "from vivarium.core.process import Process\n",
    "from vivarium.library.units import units\n",
    "\n",
    "# Define predator-prey process similar to the Tx process\n",
    "class PredatorPrey(Process):\n",
    "    defaults = {\n",
    "        'alpha': 0.1,  # Prey growth rate\n",
    "        'beta': 0.02,  # Predation rate\n",
    "        'gamma': 0.1,  # Predator death rate\n",
    "        'delta': 0.01  # Predator reproduction rate due to predation\n",
    "    }\n",
    "\n",
    "    def __init__(self, parameters=None):\n",
    "        super().__init__(parameters)\n",
    "\n",
    "    # Define the ports and the states for prey and predator\n",
    "    def ports_schema(self):\n",
    "        return {\n",
    "            'prey': {\n",
    "                'x': {\n",
    "                    '_default': 40.0,\n",
    "                    '_emit': True,\n",
    "                    '_updater': 'accumulate'\n",
    "                }\n",
    "            },\n",
    "            'predator': {\n",
    "                'y': {\n",
    "                    '_default': 9.0,\n",
    "                    '_emit': True,\n",
    "                    '_updater': 'accumulate'\n",
    "                }\n",
    "            }\n",
    "        }\n",
    "\n",
    "    # Define update logic based on predator-prey equations\n",
    "    def next_update(self, timestep, states):\n",
    "        x = states['prey']['x']  # Current prey population\n",
    "        y = states['predator']['y']  # Current predator population\n",
    "\n",
    "        # Calculate changes using Lotka-Volterra equations\n",
    "        dx = (self.parameters['alpha'] * x - self.parameters['beta'] * x * y) * timestep\n",
    "        dy = (self.parameters['delta'] * x * y - self.parameters['gamma'] * y) * timestep\n",
    "\n",
    "        # Return updates to population\n",
    "        return {\n",
    "            'prey': {'x': dx},\n",
    "            'predator': {'y': dy}\n",
    "        }\n",
    "\n",
    "# Helper functions for composition\n",
    "def process_in_experiment(process, settings, initial_state):\n",
    "    composite = process.generate()\n",
    "    return Engine(\n",
    "        composite=composite,\n",
    "        initial_state=initial_state,\n",
    "        **settings)\n",
    "\n",
    "# Color scheme\n",
    "store_cmap = matplotlib.cm.get_cmap('Dark2')\n",
    "prey_color = matplotlib.colors.to_rgba(store_cmap(0))\n",
    "predator_color = matplotlib.colors.to_rgba(store_cmap(1))\n",
    "\n",
    "store_colors = {\n",
    "    'prey': prey_color,\n",
    "    'predator': predator_color\n",
    "}\n",
    "\n",
    "# Plotting configurations\n",
    "plot_var_config = {\n",
    "    'row_height': 2,\n",
    "    'row_padding': 0.2,\n",
    "    'column_width': 10,\n",
    "    'out_dir': 'out'\n",
    "}\n",
    "\n",
    "# Corrected plotting configurations for prey and predator\n",
    "predator_prey_plot_config = {\n",
    "    'variables': [\n",
    "        {\n",
    "            'variable': ('prey', 'x'),  # Correct path for prey population\n",
    "            'color': store_colors['prey']\n",
    "        },\n",
    "        {\n",
    "            'variable': ('predator', 'y'),  # Correct path for predator population\n",
    "            'color': store_colors['predator']\n",
    "        }\n",
    "    ],\n",
    "    'filename': 'predator_prey_output.pdf',\n",
    "    **plot_var_config\n",
    "}\n",
    "\n",
    "# Simulation settings\n",
    "predator_prey_config = {'time_step': 1}\n",
    "predator_prey_sim_settings = {'experiment_id': 'PredatorPrey'}\n",
    "predator_prey_initial_state = {\n",
    "    'prey': {'x': 40.0},\n",
    "    'predator': {'y': 9.0}\n",
    "}\n",
    "\n",
    "# Initialize the predator-prey process\n",
    "predator_prey_process = PredatorPrey(predator_prey_config)\n",
    "\n",
    "# Create the experiment\n",
    "predator_prey_exp = process_in_experiment(\n",
    "    predator_prey_process,\n",
    "    predator_prey_sim_settings,\n",
    "    predator_prey_initial_state\n",
    ")\n",
    "\n",
    "# Run simulation\n",
    "predator_prey_exp.update(100)\n",
    "\n",
    "# Retrieve the data as a timeseries\n",
    "predator_prey_output = predator_prey_exp.emitter.get_timeseries()\n",
    "\n",
    "# Plot results\n",
    "fig = plot_variables(predator_prey_output, **predator_prey_plot_config)\n",
    "\n",
    "\n",
    "\n",
    "# Save plot\n",
    "plt.savefig('predator_prey_plot.png', format='png', dpi=600)\n",
    "print(\"Plot saved as predator_prey_plot.png\")\n",
    "\n",
    "\n",
    "plt.show()\n"
   ]
  },
  {
   "cell_type": "code",
   "execution_count": null,
   "id": "d84e4886-e142-4f09-b3db-a6e61a4c5262",
   "metadata": {},
   "outputs": [],
   "source": []
  },
  {
   "cell_type": "code",
   "execution_count": 9,
   "id": "43dae7d1-733c-494f-aea4-93beb0bc5700",
   "metadata": {},
   "outputs": [
    {
     "name": "stdout",
     "output_type": "stream",
     "text": [
      "Phase curve saved as predator_prey_phase_curve.png\n"
     ]
    },
    {
     "data": {
      "image/png": "[encoded data removed]",
      "text/plain": [
       "<Figure size 576x432 with 1 Axes>"
      ]
     },
     "metadata": {
      "needs_background": "light"
     },
     "output_type": "display_data"
    }
   ],
   "source": [
    "import matplotlib.pyplot as plt\n",
    "import numpy as np\n",
    "\n",
    "# Assuming predator_prey_output is the timeseries data from the simulation\n",
    "prey_population = predator_prey_output['prey']['x']  # Prey population over time\n",
    "predator_population = predator_prey_output['predator']['y']  # Predator population over time\n",
    "\n",
    "# Create the phase plot\n",
    "plt.figure(figsize=(8, 6))\n",
    "\n",
    "# Plot prey vs predator (phase curve)\n",
    "plt.plot(prey_population, predator_population, label=\"Phase Curve\", color=\"blue\")\n",
    "\n",
    "# Add labels and title\n",
    "plt.xlabel(\"Prey Population (x)\")\n",
    "plt.ylabel(\"Predator Population (y)\")\n",
    "plt.title(\"Predator-Prey Phase Curve\")\n",
    "\n",
    "# Optional: Add grid and legend\n",
    "plt.grid(True)\n",
    "plt.legend()\n",
    "\n",
    "# Save the phase curve plot as a PNG file\n",
    "plt.savefig('predator_prey_phase_curve.png', format='png', dpi=300)\n",
    "print(\"Phase curve saved as predator_prey_phase_curve.png\")\n",
    "\n",
    "# Show the plot\n",
    "plt.show()\n"
   ]
  },
  {
   "cell_type": "code",
   "execution_count": null,
   "id": "1ef4f9d1-f6a8-404c-9ea8-e0ae659eca65",
   "metadata": {},
   "outputs": [],
   "source": []
  },
  {
   "cell_type": "code",
   "execution_count": null,
   "id": "84b5bce4-1709-4f99-a508-13651bd9f2cf",
   "metadata": {},
   "outputs": [],
   "source": []
  }
 ],
 "metadata": {
  "kernelspec": {
   "display_name": "Python 3",
   "language": "python",
   "name": "python3"
  },
  "language_info": {
   "codemirror_mode": {
    "name": "ipython",
    "version": 3
   },
   "file_extension": ".py",
   "mimetype": "text/x-python",
   "name": "python",
   "nbconvert_exporter": "python",
   "pygments_lexer": "ipython3",
   "version": "3.8.8"
  }
 },
 "nbformat": 4,
 "nbformat_minor": 5
}
